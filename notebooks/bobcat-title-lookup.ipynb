{
 "cells": [
  {
   "cell_type": "code",
   "execution_count": 1,
   "metadata": {
    "collapsed": true
   },
   "outputs": [],
   "source": [
    "# Imports\n",
    "## if this doesn't work, go to https://brew.sh/ and run the installation command in terminal\n",
    "## and then run\n",
    "## conda install -c conda-forge selenium\n",
    "#### isbnlib will also need to be installed:\n",
    "## pip install isbnlib\n",
    "## occasionally run in terminal:\n",
    "## brew update && brew doctor \n",
    "\n",
    "import os\n",
    "\n",
    "import csv\n",
    "\n",
    "from selenium import webdriver\n",
    "from requests import get\n",
    "from bs4 import BeautifulSoup\n",
    "\n",
    "# isbnlib is not needed for this notebook\n",
    "# from isbnlib import is_isbn10, is_isbn13, clean"
   ]
  },
  {
   "cell_type": "code",
   "execution_count": 2,
   "metadata": {
    "collapsed": true
   },
   "outputs": [],
   "source": [
    "# Statics\n",
    "# Note: this URL works, but could probably be cleaned up\n",
    "# Note2: The source of titles to be searchedshould be a text document, \n",
    "# formatted with one title per line.\n",
    "# It should be free of typos, and should record titles exactly as they appear\n",
    "# on the title page of the book. \n",
    "\n",
    "base_url = \"http://bobcat.library.nyu.edu/primo_library/libweb/action/\"\n",
    "base_url += \"search.do?fn=search&ct=search&initialSearch=true&mode=Basic&tab=all&indx=1&dum=true&srt=rank&vid=NYU&frbg=&vl%28freeText0%29=\"\n",
    "\n",
    "infile = \"data/title-examples.txt\""
   ]
  },
  {
   "cell_type": "code",
   "execution_count": 3,
   "metadata": {
    "collapsed": true
   },
   "outputs": [],
   "source": [
    "# Add exact-search characters to each line\n",
    "append_text = \"%22\"\n",
    "with open(infile, \"r\") as f:\n",
    "    buff = []\n",
    "    for line in f:\n",
    "        if line.strip():\n",
    "             buff.append(\"%s%s%s\"% (append_text,line.strip(),append_text))\n",
    "    updatedNames=open(\"data/title-examples2.txt\",'w')\n",
    "    updatedNames.write(\"\\n\".join(buff))\n",
    "    updatedNames.close()"
   ]
  },
  {
   "cell_type": "code",
   "execution_count": 4,
   "metadata": {},
   "outputs": [],
   "source": [
    "# Further formatting of titles into a searchable form\n",
    "infile2 = \"data/title-examples2.txt\"\n",
    "with open(infile2, \"r\") as f:\n",
    "    titles = f.read().replace(\" \", \"+\").splitlines()"
   ]
  },
  {
   "cell_type": "code",
   "execution_count": 5,
   "metadata": {},
   "outputs": [],
   "source": [
    "# Create browser instance\n",
    "# Note: this requires Firefox to be installed\n",
    "\n",
    "browser = webdriver.Firefox(executable_path=\"/usr/local/bin/geckodriver\")"
   ]
  },
  {
   "cell_type": "code",
   "execution_count": 8,
   "metadata": {
    "collapsed": true
   },
   "outputs": [],
   "source": [
    "# Function for finding title matches in Bobcat (via Selenium)\n",
    "\n",
    "def check_bobcat_title(title):\n",
    "    #check_bobcat = False # Set default return\n",
    "    \n",
    "    url = base_url + title # Build URL string\n",
    "    \n",
    "    browser.get(url) # Open url in browser instance; should trap response errors\n",
    "    alert = browser.find_elements_by_class_name('alert') # Only missing titles have an class called alert\n",
    "    \n",
    "    return True if len(alert) == 0 else False\n",
    "\n",
    "    "
   ]
  },
  {
   "cell_type": "code",
   "execution_count": 11,
   "metadata": {},
   "outputs": [],
   "source": [
    "# Iterate over isbns and find matches\n",
    "\n",
    "matches = []\n",
    "\n",
    "for title in titles:\n",
    "    match = check_bobcat_title(title)\n",
    "    temp = title.replace(\"%22\", \"\").replace(\"+\", \" \").title()\n",
    "    matches.append((temp, match))"
   ]
  },
  {
   "cell_type": "code",
   "execution_count": 12,
   "metadata": {},
   "outputs": [],
   "source": [
    "# Close browser instance\n",
    "\n",
    "browser.quit()"
   ]
  },
  {
   "cell_type": "code",
   "execution_count": 13,
   "metadata": {
    "collapsed": true
   },
   "outputs": [],
   "source": [
    "# Export to csv\n",
    "\n",
    "with open('matches.csv','w') as out:\n",
    "    csv_out=csv.writer(out, quotechar = \"'\")\n",
    "    csv_out.writerow(['title','match'])\n",
    "    for row in matches:\n",
    "        csv_out.writerow(row)"
   ]
  },
  {
   "cell_type": "code",
   "execution_count": null,
   "metadata": {
    "collapsed": true
   },
   "outputs": [],
   "source": []
  }
 ],
 "metadata": {
  "kernelspec": {
   "display_name": "Python 3",
   "language": "python",
   "name": "python3"
  },
  "language_info": {
   "codemirror_mode": {
    "name": "ipython",
    "version": 3
   },
   "file_extension": ".py",
   "mimetype": "text/x-python",
   "name": "python",
   "nbconvert_exporter": "python",
   "pygments_lexer": "ipython3",
   "version": "3.6.1"
  }
 },
 "nbformat": 4,
 "nbformat_minor": 2
}
