{
 "cells": [
  {
   "cell_type": "code",
   "execution_count": 1,
   "metadata": {},
   "outputs": [],
   "source": [
    "# Imports\n",
    "\n",
    "import os\n",
    "\n",
    "import csv\n",
    "\n",
    "from selenium import webdriver\n",
    "from requests import get\n",
    "from bs4 import BeautifulSoup"
   ]
  },
  {
   "cell_type": "code",
   "execution_count": 2,
   "metadata": {},
   "outputs": [],
   "source": [
    "# Statics\n",
    "# Note: this URL works, but could probably be cleaned up\n",
    "\n",
    "base_url = \"http://bobcat.library.nyu.edu/primo_library/libweb/action/\"\n",
    "base_url += \"search.do?fn=search&ct=search&initialSearch=true&mode=Basic&tab=all&indx=1&dum=true&srt=rank&vid=NYU&frbg=&vl%28freeText0%29=\"\n",
    "\n",
    "infile = \"data/isbns.txt\""
   ]
  },
  {
   "cell_type": "code",
   "execution_count": 3,
   "metadata": {},
   "outputs": [],
   "source": [
    "# Read a txt file of isbns\n",
    "\n",
    "with open(infile, \"r\") as f:\n",
    "    isbns = f.read().splitlines()"
   ]
  },
  {
   "cell_type": "code",
   "execution_count": 4,
   "metadata": {},
   "outputs": [],
   "source": [
    "# Function to validate isbns\n",
    "# Should be other validation?\n",
    "\n",
    "def validate_isbn(isbn):\n",
    "    if len(isbn) == 13 or len(isbn) == 10:\n",
    "        pass\n",
    "    else:\n",
    "        isbn = '0' * (10-len(isbn)) + isbn\n",
    "    return isbn"
   ]
  },
  {
   "cell_type": "code",
   "execution_count": 5,
   "metadata": {},
   "outputs": [],
   "source": [
    "# Fix leading zeroes\n",
    "\n",
    "isbns = [validate_isbn(isbn) for isbn in isbns]"
   ]
  },
  {
   "cell_type": "code",
   "execution_count": 6,
   "metadata": {},
   "outputs": [],
   "source": [
    "# Create browser instance\n",
    "# Note: this requires Firefox to be installed\n",
    "\n",
    "browser = webdriver.Firefox()"
   ]
  },
  {
   "cell_type": "code",
   "execution_count": 7,
   "metadata": {},
   "outputs": [],
   "source": [
    "# Function for finding isbn matches in Bobcat (via Selenium)\n",
    "\n",
    "def check_bobcat_isbn(isbn):\n",
    "    check_bobcat = False # Set default return\n",
    "    url = base_url + isbn # Build URL string\n",
    "    browser.get(url) # Open url in browser instance; should trap response errors\n",
    "    alert = browser.find_elements_by_class_name('alert') # Only missing ISBNs have an class called alert\n",
    "    if len(alert) == 0:\n",
    "        check_bobcat = True\n",
    "    return check_bobcat"
   ]
  },
  {
   "cell_type": "code",
   "execution_count": 8,
   "metadata": {},
   "outputs": [],
   "source": [
    "# Iterate over isbns and find matches\n",
    "\n",
    "matches = []\n",
    "\n",
    "for isbn in isbns:\n",
    "    if check_bobcat_isbn(isbn):\n",
    "        #print(\"Yes! %s is in the NYU catalog\" % isbn)\n",
    "        matches.append((isbn, True))\n",
    "    else:\n",
    "        #print(\"No! %s is not in the NYU catalog\" % isbn)\n",
    "        matches.append((isbn, False))"
   ]
  },
  {
   "cell_type": "code",
   "execution_count": 9,
   "metadata": {},
   "outputs": [],
   "source": [
    "# Export to csv\n",
    "\n",
    "with open('matches.csv','w') as out:\n",
    "    csv_out=csv.writer(out, quotechar = \"'\")\n",
    "    csv_out.writerow(['isbn','match'])\n",
    "    for row in matches:\n",
    "        csv_out.writerow(row)"
   ]
  },
  {
   "cell_type": "code",
   "execution_count": 10,
   "metadata": {},
   "outputs": [],
   "source": [
    "# Close browser instance\n",
    "\n",
    "browser.quit()"
   ]
  }
 ],
 "metadata": {
  "kernelspec": {
   "display_name": "Python 3",
   "language": "python",
   "name": "python3"
  },
  "language_info": {
   "codemirror_mode": {
    "name": "ipython",
    "version": 3
   },
   "file_extension": ".py",
   "mimetype": "text/x-python",
   "name": "python",
   "nbconvert_exporter": "python",
   "pygments_lexer": "ipython3",
   "version": "3.6.2"
  }
 },
 "nbformat": 4,
 "nbformat_minor": 2
}
