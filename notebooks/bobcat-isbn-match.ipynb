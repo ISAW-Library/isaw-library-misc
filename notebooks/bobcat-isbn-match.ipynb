{
 "cells": [
  {
   "cell_type": "code",
   "execution_count": 1,
   "metadata": {},
   "outputs": [],
   "source": [
    "# Imports\n",
    "\n",
    "import os\n",
    "\n",
    "import csv\n",
    "\n",
    "from selenium import webdriver\n",
    "from requests import get\n",
    "from bs4 import BeautifulSoup"
   ]
  },
  {
   "cell_type": "code",
   "execution_count": 19,
   "metadata": {},
   "outputs": [],
   "source": [
    "# Statics\n",
    "# Note: this URL works, but could probably be cleaned up\n",
    "\n",
    "base_url = \"http://bobcat.library.nyu.edu/primo_library/libweb/action/\"\n",
    "base_url += \"search.do?fn=search&ct=search&initialSearch=true&mode=Basic&tab=all&indx=1&dum=true&srt=rank&vid=NYU&frbg=&vl%28freeText0%29=\"\n",
    "\n",
    "infile = \"data/isbns.txt\""
   ]
  },
  {
   "cell_type": "code",
   "execution_count": 20,
   "metadata": {},
   "outputs": [
    {
     "name": "stdout",
     "output_type": "stream",
     "text": [
      "['9782711857319', '9782754106207', '1588390721', '9782842782177', '9782855394237', '2855394236', '088029177x', '9785938930506', '9781891771255', '9780910407397', '9780939117673', '9780911886535', '299970701', '810929384', '9789748225302', '9780761816713', '9780140443486', '9780140443066', '9780192835765', '942614186', '9780195659122', '8190014900', '773478531', '2720010316', '9780862671501', '9782070532551', '376302011x', '8121507235', '9783869221878', '9780520224667', '932216285', '7800070433', '7226qq4976', '7226004976', '3201016780', '9780553370904', '877733546', '9782711823642', '2855397359', '9781851774296', '7560710077', '9787228032488', '9782220026299', '9780714121802', '9780813380650', '9780810981034', '067040697x', '9781904832164', '9780907849520', '9780521533386', '9789748225302', '9748434575', '500690014', '9780811800402', '3761106262', '9782842782177', '520050614', '9780252071218', '810906813', '9781570621864', '9780500275160', '9782080113603', '029596815x', '934686505', '674795903', '9781588861146', '9780860787662', '860788849']\n"
     ]
    }
   ],
   "source": [
    "# Read a txt file of isbns\n",
    "\n",
    "with open(infile, \"r\") as f:\n",
    "    isbns = f.read().splitlines()\n",
    "\n",
    "print(isbns)\n",
    "#test_isbns = ['9781848825543']"
   ]
  },
  {
   "cell_type": "code",
   "execution_count": 30,
   "metadata": {},
   "outputs": [],
   "source": [
    "def validate_isbn(isbn):\n",
    "    if len(isbn) == 13 or len(isbn) == 10:\n",
    "        pass\n",
    "    else:\n",
    "        isbn = '0' * (10-len(isbn)) + isbn\n",
    "    return isbn"
   ]
  },
  {
   "cell_type": "code",
   "execution_count": 32,
   "metadata": {},
   "outputs": [],
   "source": [
    "# Fix leading zeroes\n",
    "# Should be other validation?\n",
    "\n",
    "isbns = [validate_isbn(isbn) for isbn in isbns]"
   ]
  },
  {
   "cell_type": "code",
   "execution_count": 33,
   "metadata": {},
   "outputs": [],
   "source": [
    "# Create browser instance\n",
    "# Note: this requires Firefox to be installed\n",
    "\n",
    "browser = webdriver.Firefox()"
   ]
  },
  {
   "cell_type": "code",
   "execution_count": 34,
   "metadata": {},
   "outputs": [],
   "source": [
    "def check_bobcat_isbn(isbn):\n",
    "    check_bobcat = False # Set default return\n",
    "    url = base_url + isbn # Build URL string\n",
    "    browser.get(url) # Open url in browser instance; should trap response errors\n",
    "    alert = browser.find_elements_by_class_name('alert') # Only missing ISBNs have an class called alert\n",
    "    if len(alert) == 0:\n",
    "        check_bobcat = True\n",
    "    return check_bobcat"
   ]
  },
  {
   "cell_type": "code",
   "execution_count": 36,
   "metadata": {},
   "outputs": [
    {
     "name": "stdout",
     "output_type": "stream",
     "text": [
      "Yes! 9782711857319 is in the NYU catalog\n",
      "No! 9782754106207 is not in the NYU catalog\n",
      "No! 1588390721 is not in the NYU catalog\n",
      "No! 9782842782177 is not in the NYU catalog\n",
      "No! 9782855394237 is not in the NYU catalog\n",
      "No! 2855394236 is not in the NYU catalog\n",
      "No! 088029177x is not in the NYU catalog\n",
      "No! 9785938930506 is not in the NYU catalog\n",
      "Yes! 9781891771255 is in the NYU catalog\n",
      "Yes! 9780910407397 is in the NYU catalog\n",
      "Yes! 9780939117673 is in the NYU catalog\n",
      "Yes! 9780911886535 is in the NYU catalog\n",
      "Yes! 0299970701 is in the NYU catalog\n",
      "No! 0810929384 is not in the NYU catalog\n",
      "Yes! 9789748225302 is in the NYU catalog\n",
      "Yes! 9780761816713 is in the NYU catalog\n",
      "Yes! 9780140443486 is in the NYU catalog\n",
      "Yes! 9780140443066 is in the NYU catalog\n",
      "No! 9780192835765 is not in the NYU catalog\n",
      "Yes! 0942614186 is in the NYU catalog\n",
      "No! 9780195659122 is not in the NYU catalog\n",
      "No! 8190014900 is not in the NYU catalog\n",
      "Yes! 0773478531 is in the NYU catalog\n",
      "Yes! 2720010316 is in the NYU catalog\n",
      "No! 9780862671501 is not in the NYU catalog\n",
      "No! 9782070532551 is not in the NYU catalog\n",
      "No! 376302011x is not in the NYU catalog\n",
      "No! 8121507235 is not in the NYU catalog\n",
      "No! 9783869221878 is not in the NYU catalog\n",
      "Yes! 9780520224667 is in the NYU catalog\n",
      "Yes! 0932216285 is in the NYU catalog\n",
      "No! 7800070433 is not in the NYU catalog\n",
      "No! 7226qq4976 is not in the NYU catalog\n",
      "No! 7226004976 is not in the NYU catalog\n",
      "No! 3201016780 is not in the NYU catalog\n",
      "Yes! 9780553370904 is in the NYU catalog\n",
      "Yes! 0877733546 is in the NYU catalog\n",
      "No! 9782711823642 is not in the NYU catalog\n",
      "No! 2855397359 is not in the NYU catalog\n",
      "No! 9781851774296 is not in the NYU catalog\n",
      "No! 7560710077 is not in the NYU catalog\n",
      "No! 9787228032488 is not in the NYU catalog\n",
      "No! 9782220026299 is not in the NYU catalog\n",
      "Yes! 9780714121802 is in the NYU catalog\n",
      "Yes! 9780813380650 is in the NYU catalog\n",
      "Yes! 9780810981034 is in the NYU catalog\n",
      "Yes! 067040697x is in the NYU catalog\n",
      "No! 9781904832164 is not in the NYU catalog\n",
      "Yes! 9780907849520 is in the NYU catalog\n",
      "Yes! 9780521533386 is in the NYU catalog\n",
      "Yes! 9789748225302 is in the NYU catalog\n",
      "No! 9748434575 is not in the NYU catalog\n",
      "No! 0500690014 is not in the NYU catalog\n",
      "Yes! 9780811800402 is in the NYU catalog\n",
      "No! 3761106262 is not in the NYU catalog\n",
      "No! 9782842782177 is not in the NYU catalog\n",
      "No! 0520050614 is not in the NYU catalog\n",
      "Yes! 9780252071218 is in the NYU catalog\n",
      "Yes! 0810906813 is in the NYU catalog\n",
      "No! 9781570621864 is not in the NYU catalog\n",
      "No! 9780500275160 is not in the NYU catalog\n",
      "No! 9782080113603 is not in the NYU catalog\n",
      "No! 029596815x is not in the NYU catalog\n",
      "No! 0934686505 is not in the NYU catalog\n",
      "Yes! 0674795903 is in the NYU catalog\n",
      "Yes! 9781588861146 is in the NYU catalog\n",
      "Yes! 9780860787662 is in the NYU catalog\n",
      "Yes! 0860788849 is in the NYU catalog\n"
     ]
    }
   ],
   "source": [
    "matches = []\n",
    "\n",
    "for isbn in isbns:\n",
    "    if check_bobcat_isbn(isbn):\n",
    "        print(\"Yes! %s is in the NYU catalog\" % isbn)\n",
    "        matches.append((isbn, True))\n",
    "    else:\n",
    "        print(\"No! %s is not in the NYU catalog\" % isbn)\n",
    "        matches.append((isbn, False))"
   ]
  },
  {
   "cell_type": "code",
   "execution_count": 37,
   "metadata": {},
   "outputs": [],
   "source": [
    "# Export to csv\n",
    "\n",
    "with open('matches.csv','w') as out:\n",
    "    csv_out=csv.writer(out, quotechar = \"'\")\n",
    "    csv_out.writerow(['isbn','match'])\n",
    "    for row in matches:\n",
    "        csv_out.writerow(row)"
   ]
  },
  {
   "cell_type": "code",
   "execution_count": 38,
   "metadata": {},
   "outputs": [],
   "source": [
    "# Close browser instance\n",
    "browser.quit()"
   ]
  },
  {
   "cell_type": "code",
   "execution_count": null,
   "metadata": {},
   "outputs": [],
   "source": []
  }
 ],
 "metadata": {
  "kernelspec": {
   "display_name": "Python 3",
   "language": "python",
   "name": "python3"
  },
  "language_info": {
   "codemirror_mode": {
    "name": "ipython",
    "version": 3
   },
   "file_extension": ".py",
   "mimetype": "text/x-python",
   "name": "python",
   "nbconvert_exporter": "python",
   "pygments_lexer": "ipython3",
   "version": "3.6.2"
  }
 },
 "nbformat": 4,
 "nbformat_minor": 2
}
